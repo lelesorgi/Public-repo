{
 "cells": [
  {
   "cell_type": "code",
   "execution_count": 1,
   "metadata": {},
   "outputs": [],
   "source": [
    "from numpy import linalg as LA\n",
    "import numpy as np\n",
    "import pandas as pd\n",
    "import math\n",
    "\n",
    "\n",
    "def eigenvalue_clipping(lambdas,v,lambda_plus):\n",
    "    N=len(lambdas)\n",
    "    \n",
    "    \n",
    "    # _s stands for _structure below\n",
    "    sum_lambdas_gt_lambda_plus=np.sum(lambdas[lambdas>lambda_plus])\n",
    "    \n",
    "    sel_bulk=lambdas<=lambda_plus                     # these eigenvalues come from the seemingly random bulk\n",
    "    N_bulk=np.sum(sel_bulk)\n",
    "    sum_lambda_bulk=np.sum(lambdas[sel_bulk])        \n",
    "    delta=sum_lambda_bulk/N_bulk                      # delta is their average, so as to conserver the trace of C\n",
    "    \n",
    "    lambdas_clean=lambdas\n",
    "    lambdas_clean[lambdas_clean<=lambda_plus]=delta\n",
    "    \n",
    "    \n",
    "    C_clean=np.zeros((N, N))\n",
    "    v_m=np.matrix(v)\n",
    "    \n",
    "    for i in range(N-1):\n",
    "        C_clean=C_clean+lambdas_clean[i] * np.dot(v_m[i,].T,v_m[i,]) \n",
    "        \n",
    "    np.fill_diagonal(C_clean,1)\n",
    "            \n",
    "    return C_clean    \n",
    "    \n"
   ]
  },
  {
   "cell_type": "code",
   "execution_count": 2,
   "metadata": {},
   "outputs": [
    {
     "data": {
      "text/plain": [
       "(1000, 2000)"
      ]
     },
     "execution_count": 2,
     "metadata": {},
     "output_type": "execute_result"
    }
   ],
   "source": [
    "\n",
    "N=1000\n",
    "T=2000\n",
    "R=np.random.normal(0,1,N*T).reshape((N,T))\n",
    "R.shape"
   ]
  },
  {
   "cell_type": "code",
   "execution_count": 3,
   "metadata": {},
   "outputs": [
    {
     "data": {
      "text/plain": [
       "(1000, 1000)"
      ]
     },
     "execution_count": 3,
     "metadata": {},
     "output_type": "execute_result"
    }
   ],
   "source": [
    "C=np.corrcoef(R)\n",
    "C.shape               # N times N, so far so good."
   ]
  },
  {
   "cell_type": "code",
   "execution_count": 4,
   "metadata": {},
   "outputs": [],
   "source": [
    "lambdas_e, V_e = LA.eig(C)   # _e stands for empirical\n"
   ]
  },
  {
   "cell_type": "markdown",
   "metadata": {},
   "source": [
    "# Marcenko-Pastur distribution\n"
   ]
  },
  {
   "cell_type": "code",
   "execution_count": null,
   "metadata": {},
   "outputs": [],
   "source": []
  },
  {
   "cell_type": "code",
   "execution_count": 5,
   "metadata": {},
   "outputs": [],
   "source": [
    "def P0(lambdas,q):\n",
    "    lambda_plus = (1+np.sqrt(q))**2\n",
    "    lambda_minus = (1-np.sqrt(q))**2\n",
    "    vals = 1/(q*2*np.pi*lambdas)*np.sqrt((lambda_plus-lambdas)*(lambdas-lambda_minus))\n",
    "    return vals"
   ]
  },
  {
   "cell_type": "code",
   "execution_count": 6,
   "metadata": {},
   "outputs": [],
   "source": [
    "q=N/T\n",
    "lambdas=np.linspace((1.-np.sqrt(q))**2,(1.+np.sqrt(q))**2,200)\n",
    "P0s=P0(lambdas,q)"
   ]
  },
  {
   "cell_type": "code",
   "execution_count": 10,
   "metadata": {},
   "outputs": [
    {
     "name": "stderr",
     "output_type": "stream",
     "text": [
      "/tmp/ipykernel_981721/762245224.py:4: UserWarning: \n",
      "\n",
      "`distplot` is a deprecated function and will be removed in seaborn v0.14.0.\n",
      "\n",
      "Please adapt your code to use either `displot` (a figure-level function with\n",
      "similar flexibility) or `histplot` (an axes-level function for histograms).\n",
      "\n",
      "For a guide to updating your code to use the new functions, please see\n",
      "https://gist.github.com/mwaskom/de44147ed2974457ad6372750bbe5751\n",
      "\n",
      "  sns.distplot(lambdas_e,kde=False,norm_hist=True,bins=50)  # no Kernel Density Estimation\n"
     ]
    },
    {
     "data": {
      "text/plain": [
       "[<matplotlib.lines.Line2D at 0x7fd2f2db7f40>]"
      ]
     },
     "execution_count": 10,
     "metadata": {},
     "output_type": "execute_result"
    },
    {
     "data": {
      "image/png": "[encoded data removed]",
      "text/plain": [
       "<Figure size 640x480 with 1 Axes>"
      ]
     },
     "metadata": {},
     "output_type": "display_data"
    }
   ],
   "source": [
    "import seaborn as sns\n",
    "import matplotlib.pyplot as plt\n",
    "\n",
    "sns.distplot(lambdas_e,kde=False,norm_hist=True,bins=50)  # no Kernel Density Estimation\n",
    "plt.plot(lambdas,P0s)"
   ]
  },
  {
   "cell_type": "code",
   "execution_count": 11,
   "metadata": {},
   "outputs": [
    {
     "data": {
      "text/plain": [
       "matrix([[ 1.00000000e+00, -3.52682725e-04, -3.84334322e-04, ...,\n",
       "          1.89683102e-04, -8.29234480e-04,  3.23662531e-04],\n",
       "        [-3.52682725e-04,  1.00000000e+00, -2.67605120e-04, ...,\n",
       "          1.32072954e-04, -5.77381149e-04,  2.25360436e-04],\n",
       "        [-3.84334322e-04, -2.67605120e-04,  1.00000000e+00, ...,\n",
       "          1.43925874e-04, -6.29198361e-04,  2.45585464e-04],\n",
       "        ...,\n",
       "        [ 1.89683102e-04,  1.32072954e-04,  1.43925874e-04, ...,\n",
       "          1.00000000e+00,  3.10532498e-04, -1.21205445e-04],\n",
       "        [-8.29234480e-04, -5.77381149e-04, -6.29198361e-04, ...,\n",
       "          3.10532498e-04,  1.00000000e+00,  5.29871840e-04],\n",
       "        [ 3.23662531e-04,  2.25360436e-04,  2.45585464e-04, ...,\n",
       "         -1.21205445e-04,  5.29871840e-04,  1.00000000e+00]])"
      ]
     },
     "execution_count": 11,
     "metadata": {},
     "output_type": "execute_result"
    }
   ],
   "source": [
    "q=N/T\n",
    "lambda_plus=(1+np.sqrt(q))**2\n",
    "C_clipped=eigenvalue_clipping(lambdas_e,V_e,lambda_plus)\n",
    "C_clipped # it works\n"
   ]
  },
  {
   "cell_type": "markdown",
   "metadata": {},
   "source": [
    "## Equity data\n"
   ]
  },
  {
   "cell_type": "code",
   "execution_count": 12,
   "metadata": {},
   "outputs": [],
   "source": [
    "alldata=pd.read_csv(\"data/clean/us_equities_logreturns.csv.gz\")"
   ]
  },
  {
   "cell_type": "code",
   "execution_count": 13,
   "metadata": {},
   "outputs": [],
   "source": [
    "alldata.drop(columns=\"Unnamed: 0\",inplace=True)"
   ]
  },
  {
   "cell_type": "code",
   "execution_count": 14,
   "metadata": {},
   "outputs": [],
   "source": [
    "T=2000   # N\\simeq 1000\n",
    "\n",
    "C_us = alldata.iloc[14000:14000+T].dropna(axis=1).corr()   # drops any asset with an NA"
   ]
  },
  {
   "cell_type": "code",
   "execution_count": 15,
   "metadata": {},
   "outputs": [
    {
     "data": {
      "text/html": [
       "<div>\n",
       "<style scoped>\n",
       "    .dataframe tbody tr th:only-of-type {\n",
       "        vertical-align: middle;\n",
       "    }\n",
       "\n",
       "    .dataframe tbody tr th {\n",
       "        vertical-align: top;\n",
       "    }\n",
       "\n",
       "    .dataframe thead th {\n",
       "        text-align: right;\n",
       "    }\n",
       "</style>\n",
       "<table border=\"1\" class=\"dataframe\">\n",
       "  <thead>\n",
       "    <tr style=\"text-align: right;\">\n",
       "      <th></th>\n",
       "      <th>^GSPC</th>\n",
       "      <th>GE</th>\n",
       "      <th>IBM</th>\n",
       "      <th>DIS</th>\n",
       "      <th>BA</th>\n",
       "      <th>CAT</th>\n",
       "      <th>AA</th>\n",
       "      <th>HPQ</th>\n",
       "      <th>DD</th>\n",
       "      <th>KO</th>\n",
       "      <th>...</th>\n",
       "      <th>CIG</th>\n",
       "      <th>NCR</th>\n",
       "      <th>CVD</th>\n",
       "      <th>MWW</th>\n",
       "      <th>LVB</th>\n",
       "      <th>CNH</th>\n",
       "      <th>MIL</th>\n",
       "      <th>ABV</th>\n",
       "      <th>STL</th>\n",
       "      <th>CAE</th>\n",
       "    </tr>\n",
       "  </thead>\n",
       "  <tbody>\n",
       "    <tr>\n",
       "      <th>^GSPC</th>\n",
       "      <td>1.000000</td>\n",
       "      <td>0.757651</td>\n",
       "      <td>0.728267</td>\n",
       "      <td>0.802214</td>\n",
       "      <td>0.713069</td>\n",
       "      <td>0.762620</td>\n",
       "      <td>0.750332</td>\n",
       "      <td>0.612043</td>\n",
       "      <td>0.828707</td>\n",
       "      <td>0.641990</td>\n",
       "      <td>...</td>\n",
       "      <td>0.594005</td>\n",
       "      <td>0.628846</td>\n",
       "      <td>0.466137</td>\n",
       "      <td>0.602749</td>\n",
       "      <td>0.565244</td>\n",
       "      <td>0.670298</td>\n",
       "      <td>0.506305</td>\n",
       "      <td>0.701553</td>\n",
       "      <td>0.673886</td>\n",
       "      <td>0.519977</td>\n",
       "    </tr>\n",
       "    <tr>\n",
       "      <th>GE</th>\n",
       "      <td>0.757651</td>\n",
       "      <td>1.000000</td>\n",
       "      <td>0.549707</td>\n",
       "      <td>0.602880</td>\n",
       "      <td>0.545805</td>\n",
       "      <td>0.583247</td>\n",
       "      <td>0.575968</td>\n",
       "      <td>0.435446</td>\n",
       "      <td>0.634974</td>\n",
       "      <td>0.434391</td>\n",
       "      <td>...</td>\n",
       "      <td>0.404596</td>\n",
       "      <td>0.513133</td>\n",
       "      <td>0.325952</td>\n",
       "      <td>0.467609</td>\n",
       "      <td>0.456291</td>\n",
       "      <td>0.520290</td>\n",
       "      <td>0.412907</td>\n",
       "      <td>0.497746</td>\n",
       "      <td>0.502278</td>\n",
       "      <td>0.380581</td>\n",
       "    </tr>\n",
       "    <tr>\n",
       "      <th>IBM</th>\n",
       "      <td>0.728267</td>\n",
       "      <td>0.549707</td>\n",
       "      <td>1.000000</td>\n",
       "      <td>0.597935</td>\n",
       "      <td>0.517019</td>\n",
       "      <td>0.542907</td>\n",
       "      <td>0.533195</td>\n",
       "      <td>0.548963</td>\n",
       "      <td>0.612007</td>\n",
       "      <td>0.471378</td>\n",
       "      <td>...</td>\n",
       "      <td>0.444717</td>\n",
       "      <td>0.485306</td>\n",
       "      <td>0.327399</td>\n",
       "      <td>0.450605</td>\n",
       "      <td>0.420759</td>\n",
       "      <td>0.475533</td>\n",
       "      <td>0.367023</td>\n",
       "      <td>0.529783</td>\n",
       "      <td>0.495932</td>\n",
       "      <td>0.384097</td>\n",
       "    </tr>\n",
       "    <tr>\n",
       "      <th>DIS</th>\n",
       "      <td>0.802214</td>\n",
       "      <td>0.602880</td>\n",
       "      <td>0.597935</td>\n",
       "      <td>1.000000</td>\n",
       "      <td>0.607306</td>\n",
       "      <td>0.617839</td>\n",
       "      <td>0.610154</td>\n",
       "      <td>0.518820</td>\n",
       "      <td>0.677754</td>\n",
       "      <td>0.545457</td>\n",
       "      <td>...</td>\n",
       "      <td>0.461646</td>\n",
       "      <td>0.520343</td>\n",
       "      <td>0.374199</td>\n",
       "      <td>0.513484</td>\n",
       "      <td>0.465225</td>\n",
       "      <td>0.547896</td>\n",
       "      <td>0.390094</td>\n",
       "      <td>0.553178</td>\n",
       "      <td>0.527531</td>\n",
       "      <td>0.419937</td>\n",
       "    </tr>\n",
       "    <tr>\n",
       "      <th>BA</th>\n",
       "      <td>0.713069</td>\n",
       "      <td>0.545805</td>\n",
       "      <td>0.517019</td>\n",
       "      <td>0.607306</td>\n",
       "      <td>1.000000</td>\n",
       "      <td>0.589099</td>\n",
       "      <td>0.579382</td>\n",
       "      <td>0.457717</td>\n",
       "      <td>0.600623</td>\n",
       "      <td>0.471285</td>\n",
       "      <td>...</td>\n",
       "      <td>0.428301</td>\n",
       "      <td>0.477360</td>\n",
       "      <td>0.341166</td>\n",
       "      <td>0.481414</td>\n",
       "      <td>0.427058</td>\n",
       "      <td>0.505409</td>\n",
       "      <td>0.353870</td>\n",
       "      <td>0.491567</td>\n",
       "      <td>0.447726</td>\n",
       "      <td>0.421091</td>\n",
       "    </tr>\n",
       "    <tr>\n",
       "      <th>...</th>\n",
       "      <td>...</td>\n",
       "      <td>...</td>\n",
       "      <td>...</td>\n",
       "      <td>...</td>\n",
       "      <td>...</td>\n",
       "      <td>...</td>\n",
       "      <td>...</td>\n",
       "      <td>...</td>\n",
       "      <td>...</td>\n",
       "      <td>...</td>\n",
       "      <td>...</td>\n",
       "      <td>...</td>\n",
       "      <td>...</td>\n",
       "      <td>...</td>\n",
       "      <td>...</td>\n",
       "      <td>...</td>\n",
       "      <td>...</td>\n",
       "      <td>...</td>\n",
       "      <td>...</td>\n",
       "      <td>...</td>\n",
       "      <td>...</td>\n",
       "    </tr>\n",
       "    <tr>\n",
       "      <th>CNH</th>\n",
       "      <td>0.670298</td>\n",
       "      <td>0.520290</td>\n",
       "      <td>0.475533</td>\n",
       "      <td>0.547896</td>\n",
       "      <td>0.505409</td>\n",
       "      <td>0.669065</td>\n",
       "      <td>0.607737</td>\n",
       "      <td>0.424418</td>\n",
       "      <td>0.609401</td>\n",
       "      <td>0.366323</td>\n",
       "      <td>...</td>\n",
       "      <td>0.415027</td>\n",
       "      <td>0.491392</td>\n",
       "      <td>0.342290</td>\n",
       "      <td>0.460797</td>\n",
       "      <td>0.431087</td>\n",
       "      <td>1.000000</td>\n",
       "      <td>0.436451</td>\n",
       "      <td>0.496715</td>\n",
       "      <td>0.409576</td>\n",
       "      <td>0.436485</td>\n",
       "    </tr>\n",
       "    <tr>\n",
       "      <th>MIL</th>\n",
       "      <td>0.506305</td>\n",
       "      <td>0.412907</td>\n",
       "      <td>0.367023</td>\n",
       "      <td>0.390094</td>\n",
       "      <td>0.353870</td>\n",
       "      <td>0.412400</td>\n",
       "      <td>0.458233</td>\n",
       "      <td>0.297306</td>\n",
       "      <td>0.438377</td>\n",
       "      <td>0.256242</td>\n",
       "      <td>...</td>\n",
       "      <td>0.323709</td>\n",
       "      <td>0.369693</td>\n",
       "      <td>0.280758</td>\n",
       "      <td>0.326741</td>\n",
       "      <td>0.284451</td>\n",
       "      <td>0.436451</td>\n",
       "      <td>1.000000</td>\n",
       "      <td>0.357709</td>\n",
       "      <td>0.307726</td>\n",
       "      <td>0.288381</td>\n",
       "    </tr>\n",
       "    <tr>\n",
       "      <th>ABV</th>\n",
       "      <td>0.701553</td>\n",
       "      <td>0.497746</td>\n",
       "      <td>0.529783</td>\n",
       "      <td>0.553178</td>\n",
       "      <td>0.491567</td>\n",
       "      <td>0.521592</td>\n",
       "      <td>0.560849</td>\n",
       "      <td>0.429862</td>\n",
       "      <td>0.580185</td>\n",
       "      <td>0.463710</td>\n",
       "      <td>...</td>\n",
       "      <td>0.623843</td>\n",
       "      <td>0.404245</td>\n",
       "      <td>0.306997</td>\n",
       "      <td>0.409715</td>\n",
       "      <td>0.395785</td>\n",
       "      <td>0.496715</td>\n",
       "      <td>0.357709</td>\n",
       "      <td>1.000000</td>\n",
       "      <td>0.418452</td>\n",
       "      <td>0.396318</td>\n",
       "    </tr>\n",
       "    <tr>\n",
       "      <th>STL</th>\n",
       "      <td>0.673886</td>\n",
       "      <td>0.502278</td>\n",
       "      <td>0.495932</td>\n",
       "      <td>0.527531</td>\n",
       "      <td>0.447726</td>\n",
       "      <td>0.505333</td>\n",
       "      <td>0.464573</td>\n",
       "      <td>0.405177</td>\n",
       "      <td>0.565677</td>\n",
       "      <td>0.434978</td>\n",
       "      <td>...</td>\n",
       "      <td>0.389869</td>\n",
       "      <td>0.431931</td>\n",
       "      <td>0.356505</td>\n",
       "      <td>0.428741</td>\n",
       "      <td>0.495720</td>\n",
       "      <td>0.409576</td>\n",
       "      <td>0.307726</td>\n",
       "      <td>0.418452</td>\n",
       "      <td>1.000000</td>\n",
       "      <td>0.319431</td>\n",
       "    </tr>\n",
       "    <tr>\n",
       "      <th>CAE</th>\n",
       "      <td>0.519977</td>\n",
       "      <td>0.380581</td>\n",
       "      <td>0.384097</td>\n",
       "      <td>0.419937</td>\n",
       "      <td>0.421091</td>\n",
       "      <td>0.472725</td>\n",
       "      <td>0.476960</td>\n",
       "      <td>0.343684</td>\n",
       "      <td>0.459242</td>\n",
       "      <td>0.300463</td>\n",
       "      <td>...</td>\n",
       "      <td>0.355792</td>\n",
       "      <td>0.368418</td>\n",
       "      <td>0.288643</td>\n",
       "      <td>0.347758</td>\n",
       "      <td>0.283715</td>\n",
       "      <td>0.436485</td>\n",
       "      <td>0.288381</td>\n",
       "      <td>0.396318</td>\n",
       "      <td>0.319431</td>\n",
       "      <td>1.000000</td>\n",
       "    </tr>\n",
       "  </tbody>\n",
       "</table>\n",
       "<p>913 rows × 913 columns</p>\n",
       "</div>"
      ],
      "text/plain": [
       "          ^GSPC        GE       IBM       DIS        BA       CAT        AA  \\\n",
       "^GSPC  1.000000  0.757651  0.728267  0.802214  0.713069  0.762620  0.750332   \n",
       "GE     0.757651  1.000000  0.549707  0.602880  0.545805  0.583247  0.575968   \n",
       "IBM    0.728267  0.549707  1.000000  0.597935  0.517019  0.542907  0.533195   \n",
       "DIS    0.802214  0.602880  0.597935  1.000000  0.607306  0.617839  0.610154   \n",
       "BA     0.713069  0.545805  0.517019  0.607306  1.000000  0.589099  0.579382   \n",
       "...         ...       ...       ...       ...       ...       ...       ...   \n",
       "CNH    0.670298  0.520290  0.475533  0.547896  0.505409  0.669065  0.607737   \n",
       "MIL    0.506305  0.412907  0.367023  0.390094  0.353870  0.412400  0.458233   \n",
       "ABV    0.701553  0.497746  0.529783  0.553178  0.491567  0.521592  0.560849   \n",
       "STL    0.673886  0.502278  0.495932  0.527531  0.447726  0.505333  0.464573   \n",
       "CAE    0.519977  0.380581  0.384097  0.419937  0.421091  0.472725  0.476960   \n",
       "\n",
       "            HPQ        DD        KO  ...       CIG       NCR       CVD  \\\n",
       "^GSPC  0.612043  0.828707  0.641990  ...  0.594005  0.628846  0.466137   \n",
       "GE     0.435446  0.634974  0.434391  ...  0.404596  0.513133  0.325952   \n",
       "IBM    0.548963  0.612007  0.471378  ...  0.444717  0.485306  0.327399   \n",
       "DIS    0.518820  0.677754  0.545457  ...  0.461646  0.520343  0.374199   \n",
       "BA     0.457717  0.600623  0.471285  ...  0.428301  0.477360  0.341166   \n",
       "...         ...       ...       ...  ...       ...       ...       ...   \n",
       "CNH    0.424418  0.609401  0.366323  ...  0.415027  0.491392  0.342290   \n",
       "MIL    0.297306  0.438377  0.256242  ...  0.323709  0.369693  0.280758   \n",
       "ABV    0.429862  0.580185  0.463710  ...  0.623843  0.404245  0.306997   \n",
       "STL    0.405177  0.565677  0.434978  ...  0.389869  0.431931  0.356505   \n",
       "CAE    0.343684  0.459242  0.300463  ...  0.355792  0.368418  0.288643   \n",
       "\n",
       "            MWW       LVB       CNH       MIL       ABV       STL       CAE  \n",
       "^GSPC  0.602749  0.565244  0.670298  0.506305  0.701553  0.673886  0.519977  \n",
       "GE     0.467609  0.456291  0.520290  0.412907  0.497746  0.502278  0.380581  \n",
       "IBM    0.450605  0.420759  0.475533  0.367023  0.529783  0.495932  0.384097  \n",
       "DIS    0.513484  0.465225  0.547896  0.390094  0.553178  0.527531  0.419937  \n",
       "BA     0.481414  0.427058  0.505409  0.353870  0.491567  0.447726  0.421091  \n",
       "...         ...       ...       ...       ...       ...       ...       ...  \n",
       "CNH    0.460797  0.431087  1.000000  0.436451  0.496715  0.409576  0.436485  \n",
       "MIL    0.326741  0.284451  0.436451  1.000000  0.357709  0.307726  0.288381  \n",
       "ABV    0.409715  0.395785  0.496715  0.357709  1.000000  0.418452  0.396318  \n",
       "STL    0.428741  0.495720  0.409576  0.307726  0.418452  1.000000  0.319431  \n",
       "CAE    0.347758  0.283715  0.436485  0.288381  0.396318  0.319431  1.000000  \n",
       "\n",
       "[913 rows x 913 columns]"
      ]
     },
     "execution_count": 15,
     "metadata": {},
     "output_type": "execute_result"
    }
   ],
   "source": [
    "C_us"
   ]
  },
  {
   "cell_type": "code",
   "execution_count": 16,
   "metadata": {},
   "outputs": [],
   "source": [
    "l_e, V_e = LA.eig(C_us)"
   ]
  },
  {
   "cell_type": "code",
   "execution_count": 17,
   "metadata": {},
   "outputs": [],
   "source": [
    "N = C_us.shape[0]\n",
    "q = N/T\n",
    "lambda_plus = (1+np.sqrt(q))**2"
   ]
  },
  {
   "cell_type": "code",
   "execution_count": 18,
   "metadata": {},
   "outputs": [],
   "source": [
    "### Number of eigenvalues outside of the random bulk"
   ]
  },
  {
   "cell_type": "code",
   "execution_count": 19,
   "metadata": {},
   "outputs": [
    {
     "data": {
      "text/plain": [
       "18"
      ]
     },
     "execution_count": 19,
     "metadata": {},
     "output_type": "execute_result"
    }
   ],
   "source": [
    "np.sum(l_e>lambda_plus)   # about 2% of the eigenvalues"
   ]
  },
  {
   "cell_type": "code",
   "execution_count": 20,
   "metadata": {},
   "outputs": [
    {
     "data": {
      "text/plain": [
       "0.019715224534501644"
      ]
     },
     "execution_count": 20,
     "metadata": {},
     "output_type": "execute_result"
    }
   ],
   "source": [
    "np.sum(l_e>lambda_plus)/N   # about 2% of the eigenvalues"
   ]
  },
  {
   "cell_type": "code",
   "execution_count": 21,
   "metadata": {},
   "outputs": [],
   "source": [
    "C_us_clipped=eigenvalue_clipping(l_e,V_e,lambda_plus)"
   ]
  },
  {
   "cell_type": "code",
   "execution_count": 25,
   "metadata": {},
   "outputs": [
    {
     "data": {
      "text/plain": [
       "matrix([[ 1.        ,  0.02767634,  0.06933673, ..., -0.0837502 ,\n",
       "          0.06716053, -0.07835433],\n",
       "        [ 0.02767634,  1.        ,  0.02505282, ...,  0.00296111,\n",
       "          0.02346199,  0.0697074 ],\n",
       "        [ 0.06933673,  0.02505282,  1.        , ..., -0.01736605,\n",
       "          0.03326861,  0.05434441],\n",
       "        ...,\n",
       "        [-0.0837502 ,  0.00296111, -0.01736605, ...,  1.        ,\n",
       "         -0.06667552,  0.0178296 ],\n",
       "        [ 0.06716053,  0.02346199,  0.03326861, ..., -0.06667552,\n",
       "          1.        ,  0.01295075],\n",
       "        [-0.07835433,  0.0697074 ,  0.05434441, ...,  0.0178296 ,\n",
       "          0.01295075,  1.        ]])"
      ]
     },
     "execution_count": 25,
     "metadata": {},
     "output_type": "execute_result"
    }
   ],
   "source": [
    "C_us_clipped"
   ]
  },
  {
   "cell_type": "code",
   "execution_count": null,
   "metadata": {},
   "outputs": [],
   "source": []
  }
 ],
 "metadata": {
  "kernelspec": {
   "display_name": "Python 3 (ipykernel)",
   "language": "python",
   "name": "python3"
  },
  "language_info": {
   "codemirror_mode": {
    "name": "ipython",
    "version": 3
   },
   "file_extension": ".py",
   "mimetype": "text/x-python",
   "name": "python",
   "nbconvert_exporter": "python",
   "pygments_lexer": "ipython3",
   "version": "3.10.6"
  }
 },
 "nbformat": 4,
 "nbformat_minor": 4
}
