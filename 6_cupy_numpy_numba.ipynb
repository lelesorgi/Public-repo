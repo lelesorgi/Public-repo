{
 "cells": [
  {
   "cell_type": "markdown",
   "id": "fc09e32f-17df-4666-813d-bb2fd0ab1713",
   "metadata": {},
   "source": [
    "# Speed comparison between numpy, cupy and numba for a simple agent-based model\n",
    "\n",
    "author: damien.challet@centralesupelec.fr (2022)  "
   ]
  },
  {
   "cell_type": "code",
   "execution_count": 6,
   "id": "66d9b91d-7afa-4e93-9e70-c363c6357352",
   "metadata": {},
   "outputs": [],
   "source": [
    "import numpy as np\n",
    "import cupy as cp    \n",
    "import numba"
   ]
  },
  {
   "cell_type": "code",
   "execution_count": 8,
   "id": "134e722f-3b6e-4588-96c2-93767976ddc9",
   "metadata": {},
   "outputs": [
    {
     "data": {
      "text/plain": [
       "array([0.00015, 0.0015 , 0.0015 , 0.0015 , 0.00015, 0.00015, 0.     ])"
      ]
     },
     "execution_count": 8,
     "metadata": {},
     "output_type": "execute_result"
    }
   ],
   "source": [
    "bnds = ((0.0001, 0.1),\n",
    "        (0.001,0.3),\n",
    "        (0.001,50),\n",
    "        (0.001,0.3), \n",
    "        (0.0001,0.05),\n",
    "        (0.0001,0.1),\n",
    "        (-0.1,0.1)\n",
    "       )\n",
    "\n",
    "params0=np.array(bnds)[:,0]*1.5\n",
    "params0[-1]=0\n",
    "params_names=[\"alpha\",\"beta\",\"gamma\",\"kappa\",\"sigma_N\",\"lambda\",\"g\"]\n",
    "params0"
   ]
  },
  {
   "cell_type": "markdown",
   "id": "f9ae3633-6aaa-4e82-adc7-5a012e3f7055",
   "metadata": {},
   "source": [
    "## cupy"
   ]
  },
  {
   "cell_type": "code",
   "execution_count": 9,
   "id": "9f1dba58-010c-4a7e-ab33-9be90253d040",
   "metadata": {
    "tags": []
   },
   "outputs": [],
   "source": [
    "def abm(params,Nruns,NIT):\n",
    "    alpha=params[0]\n",
    "    beta=params[1]\n",
    "    gamma=params[2]\n",
    "    kappa=params[3]\n",
    "    sigma_N=params[4]\n",
    "    lamda=params[5]\n",
    "    g=params[6]\n",
    "\n",
    "    r=cp.zeros((Nruns,NIT))\n",
    "    eps=cp.random.normal(0,sigma_N,(Nruns,NIT))\n",
    "    m=g*cp.ones(Nruns ) # E(m)=g\n",
    "    v=cp.zeros(Nruns)\n",
    "    p=cp.zeros(Nruns)\n",
    "    for t in range(NIT):\n",
    "        r[:,t]=kappa*(v-p)+beta*cp.tanh(gamma*m)+eps[:,t]+g\n",
    "        p=p+r[:,t]\n",
    "        m=(1-alpha)*m+alpha*r[:,t]\n",
    "        v=(1-lamda)*v+lamda*p\n",
    "    return r"
   ]
  },
  {
   "cell_type": "code",
   "execution_count": 10,
   "id": "57122ca8-7715-4eed-9308-bba9629851ae",
   "metadata": {},
   "outputs": [
    {
     "name": "stdout",
     "output_type": "stream",
     "text": [
      "105 ms ± 1.52 ms per loop (mean ± std. dev. of 7 runs, 1 loop each)\n"
     ]
    }
   ],
   "source": [
    "%%timeit\n",
    "\n",
    "abm(params0,20000,300)"
   ]
  },
  {
   "cell_type": "markdown",
   "id": "dafe6c4f-19dd-404c-ae00-c76cc116be8c",
   "metadata": {},
   "source": [
    "## numpy"
   ]
  },
  {
   "cell_type": "code",
   "execution_count": 16,
   "id": "22033e3b-91c4-4510-a7fd-27b9daf890e8",
   "metadata": {},
   "outputs": [],
   "source": [
    "def abm(params,Nruns,NIT):\n",
    "    alpha=params[0]\n",
    "    beta=params[1]\n",
    "    gamma=params[2]\n",
    "    kappa=params[3]\n",
    "    sigma_N=params[4]\n",
    "    lamda=params[5]\n",
    "    g=params[6]\n",
    "\n",
    "    r=np.zeros((Nruns,NIT))\n",
    "    eps=np.random.normal(0,sigma_N,(Nruns,NIT))\n",
    "    m=g*np.ones(Nruns ) # E(m)=g\n",
    "    v=np.zeros(Nruns)\n",
    "    p=np.zeros(Nruns)\n",
    "    for t in range(NIT):\n",
    "        r[:,t]=kappa*(v-p)+beta*np.tanh(gamma*m)+eps[:,t]+g\n",
    "        p=p+r[:,t]\n",
    "        m=(1-alpha)*m+alpha*r[:,t]\n",
    "        v=(1-lamda)*v+lamda*p\n",
    "    return r"
   ]
  },
  {
   "cell_type": "code",
   "execution_count": 17,
   "id": "6b80a254-7569-4877-8714-234a7cb6d979",
   "metadata": {},
   "outputs": [
    {
     "name": "stdout",
     "output_type": "stream",
     "text": [
      "395 ms ± 19.8 ms per loop (mean ± std. dev. of 7 runs, 1 loop each)\n"
     ]
    }
   ],
   "source": [
    "%%timeit\n",
    "\n",
    "abm(params0,20000,300)"
   ]
  },
  {
   "cell_type": "markdown",
   "id": "9296a5da-418b-4a7f-b996-ba389a7cbe4a",
   "metadata": {},
   "source": [
    "## numba"
   ]
  },
  {
   "cell_type": "code",
   "execution_count": 18,
   "id": "0c458980-8704-4637-9f4d-231c6a9170a6",
   "metadata": {},
   "outputs": [],
   "source": [
    "import numba\n",
    "from numba import njit\n",
    "from numba.typed import List\n",
    "@njit\n",
    "def abm(params,Nruns,NIT):\n",
    "    alpha=params[0]\n",
    "    beta=params[1]\n",
    "    gamma=params[2]\n",
    "    kappa=params[3]\n",
    "    sigma_N=params[4]\n",
    "    lamda=params[5]\n",
    "    g=params[6]\n",
    "\n",
    "    r=np.zeros((Nruns,NIT))\n",
    "    eps=np.random.normal(0,sigma_N,(Nruns,NIT))\n",
    "    m=g*np.ones(Nruns ) # E(m)=g\n",
    "    v=np.zeros(Nruns)\n",
    "    p=np.zeros(Nruns)\n",
    "    for t in range(NIT):\n",
    "        r[:,t]=kappa*(v-p)+beta*np.tanh(gamma*m)+eps[:,t]+g\n",
    "        p=p+r[:,t]\n",
    "        m=(1-alpha)*m+alpha*r[:,t]\n",
    "        v=(1-lamda)*v+lamda*p\n",
    "    return r"
   ]
  },
  {
   "cell_type": "code",
   "execution_count": 19,
   "id": "119d44a4-30fb-462a-88d7-36fee5bb04f3",
   "metadata": {},
   "outputs": [],
   "source": [
    "params0=List(params0)"
   ]
  },
  {
   "cell_type": "code",
   "execution_count": 20,
   "id": "74058fb7-01dc-406a-a0d9-547b8665c40b",
   "metadata": {},
   "outputs": [
    {
     "name": "stdout",
     "output_type": "stream",
     "text": [
      "474 ms ± 10.7 ms per loop (mean ± std. dev. of 7 runs, 1 loop each)\n"
     ]
    }
   ],
   "source": [
    "%%timeit\n",
    "\n",
    "abm(params0,20000,300)"
   ]
  },
  {
   "cell_type": "code",
   "execution_count": null,
   "id": "690c4222-7f50-4a4e-96b7-8feb068db212",
   "metadata": {},
   "outputs": [],
   "source": []
  }
 ],
 "metadata": {
  "kernelspec": {
   "display_name": "Python 3 (ipykernel)",
   "language": "python",
   "name": "python3"
  },
  "language_info": {
   "codemirror_mode": {
    "name": "ipython",
    "version": 3
   },
   "file_extension": ".py",
   "mimetype": "text/x-python",
   "name": "python",
   "nbconvert_exporter": "python",
   "pygments_lexer": "ipython3",
   "version": "3.10.6"
  }
 },
 "nbformat": 4,
 "nbformat_minor": 5
}
